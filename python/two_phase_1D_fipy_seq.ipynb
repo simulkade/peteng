{
 "cells": [
  {
   "cell_type": "markdown",
   "metadata": {},
   "source": [
    "## FiPy 1D two-phase flow in porous mediaq, 11 October, 2019\n",
    "Different approaches:\n",
    "  * Coupled\n",
    "  * Sequential\n",
    "  * ..."
   ]
  },
  {
   "cell_type": "code",
   "execution_count": 49,
   "metadata": {},
   "outputs": [],
   "source": [
    "from fipy import Grid2D, CellVariable, FaceVariable\n",
    "import numpy as np\n",
    "\n",
    "\n",
    "def upwindValues(mesh, field, velocity):\n",
    "    \"\"\"Calculate the upwind face values for a field variable\n",
    "\n",
    "    Note that the mesh.faceNormals point from `id1` to `id2` so if velocity is in the same\n",
    "    direction as the `faceNormal`s then we take the value from `id1`s and visa-versa.\n",
    "\n",
    "    Args:\n",
    "      mesh: a fipy mesh\n",
    "      field: a fipy cell variable or equivalent numpy array\n",
    "      velocity: a fipy face variable (rank 1) or equivalent numpy array\n",
    "     \n",
    "    Returns:\n",
    "      numpy array shaped as a fipy face variable\n",
    "    \"\"\"\n",
    "    # direction is over faces (rank 0)\n",
    "    direction = np.sum(np.array(mesh.faceNormals * velocity), axis=0)\n",
    "    # id1, id2 are shaped as faces but contains cell index values\n",
    "    id1, id2 = mesh._adjacentCellIDs\n",
    "    return np.where(direction >= 0, field[id1],  field[id2])\n",
    "\n",
    "\n",
    "# mesh = Grid2D(nx=3, ny=3)\n",
    "# print(\n",
    "#     upwindValues(\n",
    "#         mesh,\n",
    "#         np.arange(mesh.numberOfCells),\n",
    "#         2 * np.random.random(size=(2, mesh.numberOfFaces)) - 1\n",
    "#     )\n",
    "# )\n"
   ]
  },
  {
   "cell_type": "code",
   "execution_count": 50,
   "metadata": {},
   "outputs": [],
   "source": [
    "from fipy import *\n",
    "\n",
    "# relperm parameters\n",
    "swc = 0.1\n",
    "sor = 0.1\n",
    "krw0 = 0.3\n",
    "kro0 = 1.0\n",
    "nw = 2.0\n",
    "no = 2.0\n",
    "\n",
    "# domain and boundaries\n",
    "k = 1e-12 # m^2\n",
    "phi = 0.4\n",
    "u = 1.e-5\n",
    "p0 = 100e5 # Pa\n",
    "Lx = 100.\n",
    "Ly = 10.\n",
    "nx = 100\n",
    "ny = 10\n",
    "dx = Lx/nx\n",
    "dy = Ly/ny\n",
    "\n",
    "# fluid properties\n",
    "muo = 0.002\n",
    "muw = 0.001\n",
    "\n",
    "# define the fractional flow functions\n",
    "def krw(sw):\n",
    "    res = krw0*((sw-swc)/(1-swc-sor))**nw\n",
    "    return res\n",
    "\n",
    "def dkrw(sw):\n",
    "    res = krw0*nw/(1-swc-sor)*((sw-swc)/(1-swc-sor))**(nw-1)\n",
    "    return res\n",
    "\n",
    "\n",
    "def kro(sw):\n",
    "    res = kro0*((1-sw-sor)/(1-swc-sor))**no\n",
    "    return res\n",
    "\n",
    "def dkro(sw):\n",
    "    res = -kro0*no/(1-swc-sor)*((1-sw-sor)/(1-swc-sor))**(no-1)\n",
    "    return res\n",
    "\n",
    "def fw(sw):\n",
    "    res = krw(sw)/muw/(krw(sw)/muw+kro(sw)/muo)\n",
    "    return res\n",
    "\n",
    "def dfw(sw):\n",
    "    res = (dkrw(sw)/muw*kro(sw)/muo-krw(sw)/muw*dkro(sw)/muo)/(krw(sw)/muw+kro(sw)/muo)**2\n",
    "    return res\n",
    "\n",
    "import matplotlib.pyplot as plt\n",
    "import numpy as np\n",
    "\n",
    "sw_plot = np.linspace(swc, 1-sor, 50)"
   ]
  },
  {
   "cell_type": "markdown",
   "metadata": {},
   "source": [
    "## Visualize the relative permeability and fractional flow curves"
   ]
  },
  {
   "cell_type": "code",
   "execution_count": 51,
   "metadata": {},
   "outputs": [
    {
     "data": {
      "image/png": "[encoded data removed]",
      "text/plain": [
       "<Figure size 432x288 with 1 Axes>"
      ]
     },
     "metadata": {
      "needs_background": "light"
     },
     "output_type": "display_data"
    },
    {
     "data": {
      "image/png": "[encoded data removed]",
      "text/plain": [
       "<Figure size 432x288 with 1 Axes>"
      ]
     },
     "metadata": {
      "needs_background": "light"
     },
     "output_type": "display_data"
    }
   ],
   "source": [
    "krw_plot = [krw(sw) for sw in sw_plot]\n",
    "kro_plot = [kro(sw) for sw in sw_plot]\n",
    "fw_plot = [fw(sw) for sw in sw_plot]\n",
    "\n",
    "plt.figure(1)\n",
    "plt.plot(sw_plot, krw_plot, sw_plot, kro_plot)\n",
    "plt.show()\n",
    "\n",
    "plt.figure(2)\n",
    "plt.plot(sw_plot, fw_plot)\n",
    "plt.show()"
   ]
  },
  {
   "cell_type": "code",
   "execution_count": 60,
   "metadata": {},
   "outputs": [
    {
     "data": {
      "text/plain": [
       "33333.333333333336"
      ]
     },
     "execution_count": 60,
     "metadata": {},
     "output_type": "execute_result"
    }
   ],
   "source": [
    "# create the grid\n",
    "mesh = Grid1D(dx = Lx/nx, nx = nx)\n",
    "x = mesh.cellCenters\n",
    "\n",
    "# create the cell variables and boundary conditions\n",
    "sw = CellVariable(mesh=mesh, name=\"saturation\", hasOld=True, value = swc)\n",
    "p = CellVariable(mesh=mesh, name=\"pressure\", hasOld=True, value = p0)\n",
    "# sw.setValue(1-sor,where = x<=dx)\n",
    "\n",
    "sw.constrain(1.0-sor, mesh.facesLeft)\n",
    "#sw.constrain(0., mesh.facesRight)\n",
    "sw.faceGrad.constrain([0], mesh.facesRight)\n",
    "p.faceGrad.constrain([-u/(krw(1-sor)*k/muw)], mesh.facesLeft)\n",
    "p.constrain(p0, mesh.facesRight)\n",
    "# p.constrain(3.0*p0, mesh.facesLeft)\n",
    "u/(krw(1-sor)*k/muw)"
   ]
  },
  {
   "cell_type": "code",
   "execution_count": 53,
   "metadata": {},
   "outputs": [
    {
     "data": {
      "text/plain": [
       "_ArithmeticCellToFaceVariable(value=array([1. , 0.1, 0.1, 0.1, 0.1, 0.1, 0.1, 0.1, 0.1, 0.1, 0.1, 0.1, 0.1,\n",
       "       0.1, 0.1, 0.1, 0.1, 0.1, 0.1, 0.1, 0.1, 0.1, 0.1, 0.1, 0.1, 0.1,\n",
       "       0.1, 0.1, 0.1, 0.1, 0.1, 0.1, 0.1, 0.1, 0.1, 0.1, 0.1, 0.1, 0.1,\n",
       "       0.1, 0.1, 0.1, 0.1, 0.1, 0.1, 0.1, 0.1, 0.1, 0.1, 0.1, 0.1, 0.1,\n",
       "       0.1, 0.1, 0.1, 0.1, 0.1, 0.1, 0.1, 0.1, 0.1, 0.1, 0.1, 0.1, 0.1,\n",
       "       0.1, 0.1, 0.1, 0.1, 0.1, 0.1, 0.1, 0.1, 0.1, 0.1, 0.1, 0.1, 0.1,\n",
       "       0.1, 0.1, 0.1, 0.1, 0.1, 0.1, 0.1, 0.1, 0.1, 0.1, 0.1, 0.1, 0.1,\n",
       "       0.1, 0.1, 0.1, 0.1, 0.1, 0.1, 0.1, 0.1, 0.1, 0.1]), mesh=UniformGrid1D(dx=1.0, nx=100))"
      ]
     },
     "execution_count": 53,
     "metadata": {},
     "output_type": "execute_result"
    }
   ],
   "source": [
    "sw.faceValue"
   ]
  },
  {
   "cell_type": "markdown",
   "metadata": {},
   "source": [
    "## Equations\n",
    "$$\\nabla.\\left(\\left(-\\frac{k_{rw} k}{\\mu_w}-\\frac{k_{ro} k}{\\mu_o} \\right)\\nabla p \\right)=0$$ or\n",
    "$$\\varphi \\frac{\\partial S_w}{\\partial t}+\\nabla.\\left(-\\frac{k_{rw} k}{\\mu_w} \\nabla p \\right)=0$$"
   ]
  },
  {
   "cell_type": "code",
   "execution_count": 61,
   "metadata": {},
   "outputs": [
    {
     "data": {
      "image/png": "[encoded data removed]",
      "text/plain": [
       "<fipy.viewers.matplotlibViewer.matplotlib1DViewer.Matplotlib1DViewer at 0x7f21d77162c0>"
      ]
     },
     "metadata": {},
     "output_type": "display_data"
    },
    {
     "data": {
      "image/png": "[encoded data removed]",
      "text/plain": [
       "<Figure size 288x288 with 1 Axes>"
      ]
     },
     "metadata": {
      "needs_background": "light"
     },
     "output_type": "display_data"
    }
   ],
   "source": [
    "# eq_p = DiffusionTerm(var=p, coeff=-k*(krw(sw.faceValue)/muw+kro(sw.faceValue)/muo))- \\\n",
    "# UpwindConvectionTerm(var=sw, coeff=-k*(dkrw(sw.faceValue)/muw+dkro(sw.faceValue)/muo)*p.faceGrad)- \\\n",
    "# (k*(dkrw(sw.faceValue)/muw+dkro(sw.faceValue)/muo)*sw.faceValue*p.faceGrad).divergence == 0\n",
    "\n",
    "# eq_sw = TransientTerm(coeff=phi, var=sw) + \\\n",
    "# DiffusionTerm(var=p, coeff=-k*krw(sw.faceValue)/muw)+ \\\n",
    "# UpwindConvectionTerm(var=sw, coeff=-k*dkrw(sw.faceValue)/muw*p.faceGrad)- \\\n",
    "# (-k*dkrw(sw.faceValue)/muw*p.faceGrad*sw.faceValue).divergence == 0\n",
    "\n",
    "eq_p = DiffusionTerm(var=p, coeff=-k*(krw(sw.faceValue)/muw+kro(sw.faceValue)/muo)) == 0\n",
    "\n",
    "eq_sw = TransientTerm(coeff=phi, var=sw) + \\\n",
    "(-k*krw(sw.faceValue)/muw*p.faceGrad).divergence == 0\n",
    "\n",
    "sw_face = sw.faceValue\n",
    "\n",
    "# eq = eq_p & eq_sw\n",
    "steps = 100\n",
    "dt0 = 5000.\n",
    "dt = dt0\n",
    "t_end = steps*dt0\n",
    "t = 0.0\n",
    "viewer = Viewer(vars = sw, datamax=1.1, datamin=-0.1)\n",
    "while t<t_end:\n",
    "    eq_p = DiffusionTerm(var=p, coeff=-k*(krw(sw.faceValue)/muw+kro(sw.faceValue)/muo)) == 0\n",
    "    eq_p.solve(var=p)\n",
    "    eq_sw = TransientTerm(coeff=phi, var=sw) + \\\n",
    "        (-k*krw(sw.faceValue)/muw*p.faceGrad).divergence == 0\n",
    "    eq_sw.solve(var=sw, dt=dt0)\n",
    "    sw.value[sw.value>1-sor]=1-sor\n",
    "    sw.value[sw.value<swc]=swc\n",
    "    p.updateOld()\n",
    "    sw.updateOld()\n",
    "    u_w = -k*krw(sw_face)/muw*p.faceGrad\n",
    "    sw_face = sw.faceValue #FaceVariable(mesh, upwindValues(mesh, sw, u_w))\n",
    "#     sw_face.value[0] = 1.0\n",
    "#     eq_p = DiffusionTerm(var=p, coeff=-k*(krw(sw_face)/muw+kro(sw_face)/muo)) == 0\n",
    "#     eq_sw = TransientTerm(coeff=phi, var=sw) + (-k*krw(sw_face)/muw*p.faceGrad).divergence == 0\n",
    "    t=t+dt0\n",
    "        \n",
    "# Note: try to use the Appleyard method; the overflow is a result of wrong rel-perm values        \n",
    "viewer.plot()"
   ]
  },
  {
   "cell_type": "code",
   "execution_count": 55,
   "metadata": {},
   "outputs": [
    {
     "data": {
      "text/plain": [
       "_FaceGradVariable(value=array([[-33333.33333333, -53328.74995397, -55947.35520076,\n",
       "        -48765.06666518, -43427.97794804, -43056.18892108,\n",
       "        -43055.55555628, -43055.55555557, -43055.55555556,\n",
       "        -43055.55555557, -43055.55555557, -43055.55555556,\n",
       "        -43055.55555556, -43055.55555556, -43055.55555556,\n",
       "        -64694.69843017, -43274.57465903, -26055.22591197,\n",
       "        -25833.34059685, -25833.33333334, -25833.33333334,\n",
       "        -25833.33333334, -25833.33333334, -25833.33333334,\n",
       "        -25833.33333334, -25833.33333334, -25833.33333334,\n",
       "        -25833.33333334, -25833.33333334, -25833.33333334,\n",
       "        -25833.33333334, -25833.33333334, -25833.33333334,\n",
       "        -25833.33333334, -25833.33333334, -25833.33333334,\n",
       "        -25833.33333334, -25833.33333334, -25833.33333334,\n",
       "        -25833.33333334, -25833.33333334, -25833.33333334,\n",
       "        -25833.33333334, -25833.33333334, -25833.33333334,\n",
       "        -25833.33333334, -25833.33333334, -25833.33333334,\n",
       "        -25833.33333333, -25833.33333334, -25833.33333334,\n",
       "        -25833.33333334, -25833.33333334, -25833.33333334,\n",
       "        -25833.33333334, -25833.33333334, -25833.33333334,\n",
       "        -25833.33333334, -25833.33333334, -25833.33333334,\n",
       "        -25833.33333334, -25833.33333334, -25833.33333334,\n",
       "        -25833.33333334, -25833.33333334, -25833.33333334,\n",
       "        -25833.33333334, -25833.33333334, -25833.33333334,\n",
       "        -25833.33333334, -25833.33333334, -25833.33333334,\n",
       "        -25833.33333334, -25833.33333334, -25833.33333334,\n",
       "        -25833.33333334, -25833.33333334, -25833.33333334,\n",
       "        -25833.33333334, -25833.33333334, -25833.33333334,\n",
       "        -25833.33333334, -25833.33333334, -25833.33333334,\n",
       "        -25833.33333334, -25833.33333334, -25833.33333334,\n",
       "        -25833.33333334, -25833.33333334, -25833.33333334,\n",
       "        -25833.33333334, -25833.33333334, -25833.33333334,\n",
       "        -25833.33333334, -25833.33333334, -25833.33333334,\n",
       "        -25833.33333334, -25833.33333334, -25833.33333334,\n",
       "        -25833.33333334, -25833.33333276]]), mesh=UniformGrid1D(dx=1.0, nx=100))"
      ]
     },
     "execution_count": 55,
     "metadata": {},
     "output_type": "execute_result"
    }
   ],
   "source": [
    "# sw_face.value\n",
    "# u_w.value\n",
    "p.faceGrad"
   ]
  },
  {
   "cell_type": "code",
   "execution_count": 59,
   "metadata": {},
   "outputs": [
    {
     "data": {
      "text/plain": [
       "_ArithmeticCellToFaceVariable(value=array([1.        , 0.81111051, 0.78475011, 0.84526698, 0.89592566,\n",
       "       0.89999159, 0.9       , 0.9       , 0.9       , 0.9       ,\n",
       "       0.9       , 0.9       , 0.9       , 0.9       , 0.9       ,\n",
       "       0.76135615, 0.3699481 , 0.10859296, 0.100001  , 0.1       ,\n",
       "       0.1       , 0.1       , 0.1       , 0.1       , 0.1       ,\n",
       "       0.1       , 0.1       , 0.1       , 0.1       , 0.1       ,\n",
       "       0.1       , 0.1       , 0.1       , 0.1       , 0.1       ,\n",
       "       0.1       , 0.1       , 0.1       , 0.1       , 0.1       ,\n",
       "       0.1       , 0.1       , 0.1       , 0.1       , 0.1       ,\n",
       "       0.1       , 0.1       , 0.1       , 0.1       , 0.1       ,\n",
       "       0.1       , 0.1       , 0.1       , 0.1       , 0.1       ,\n",
       "       0.1       , 0.1       , 0.1       , 0.1       , 0.1       ,\n",
       "       0.1       , 0.1       , 0.1       , 0.1       , 0.1       ,\n",
       "       0.1       , 0.1       , 0.1       , 0.1       , 0.1       ,\n",
       "       0.1       , 0.1       , 0.1       , 0.1       , 0.1       ,\n",
       "       0.1       , 0.1       , 0.1       , 0.1       , 0.1       ,\n",
       "       0.1       , 0.1       , 0.1       , 0.1       , 0.1       ,\n",
       "       0.1       , 0.1       , 0.1       , 0.1       , 0.1       ,\n",
       "       0.1       , 0.1       , 0.1       , 0.1       , 0.1       ,\n",
       "       0.1       , 0.1       , 0.1       , 0.1       , 0.1       ,\n",
       "       0.1       ]), mesh=UniformGrid1D(dx=1.0, nx=100))"
      ]
     },
     "execution_count": 59,
     "metadata": {},
     "output_type": "execute_result"
    }
   ],
   "source": [
    "upwindValues(mesh, sw, u_w)\n",
    "sw.faceValue"
   ]
  },
  {
   "cell_type": "markdown",
   "metadata": {},
   "source": [
    "## Analytical solution"
   ]
  },
  {
   "cell_type": "code",
   "execution_count": 62,
   "metadata": {},
   "outputs": [],
   "source": [
    "import fractional_flow as ff\n",
    "xt_shock, sw_shock, xt_prf, sw_prf, t, p_inj, R_oil = ff.frac_flow_wf(muw=muw, muo=muo, ut=u, phi=1.0, \\\n",
    "  k=1e-12, swc=swc, sor=sor, kro0=kro0, no=no, krw0=krw0, \\\n",
    "  nw=nw, sw0=swc, sw_inj=1.0, L=Lx, pv_inj=5.0)"
   ]
  },
  {
   "cell_type": "code",
   "execution_count": 63,
   "metadata": {},
   "outputs": [
    {
     "data": {
      "image/png": "[encoded data removed]",
      "text/plain": [
       "<Figure size 432x288 with 1 Axes>"
      ]
     },
     "metadata": {
      "needs_background": "light"
     },
     "output_type": "display_data"
    }
   ],
   "source": [
    "plt.figure()\n",
    "plt.plot(xt_prf, sw_prf)\n",
    "plt.plot(x.value.squeeze()/(steps*dt), sw.value)\n",
    "plt.show()"
   ]
  }
 ],
 "metadata": {
  "kernelspec": {
   "display_name": "Python 3 (ipykernel)",
   "language": "python",
   "name": "python3"
  },
  "language_info": {
   "codemirror_mode": {
    "name": "ipython",
    "version": 3
   },
   "file_extension": ".py",
   "mimetype": "text/x-python",
   "name": "python",
   "nbconvert_exporter": "python",
   "pygments_lexer": "ipython3",
   "version": "3.10.4"
  },
  "toc": {
   "base_numbering": 1,
   "nav_menu": {},
   "number_sections": true,
   "sideBar": true,
   "skip_h1_title": false,
   "title_cell": "Table of Contents",
   "title_sidebar": "Contents",
   "toc_cell": false,
   "toc_position": {},
   "toc_section_display": true,
   "toc_window_display": false
  }
 },
 "nbformat": 4,
 "nbformat_minor": 4
}
