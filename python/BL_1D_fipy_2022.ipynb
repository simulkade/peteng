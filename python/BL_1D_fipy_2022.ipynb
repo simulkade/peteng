{
 "cells": [
  {
   "cell_type": "markdown",
   "metadata": {},
   "source": [
    "# An old FiPy solution to 1D BL\n",
    "I'm not really sure if the result is correct.\n",
    "The results is indeed incorrect. See the updated code a few cells below that might work slightly better."
   ]
  },
  {
   "cell_type": "code",
   "execution_count": 123,
   "metadata": {},
   "outputs": [],
   "source": [
    "# import packages and define the functions\n",
    "import relative_permeability as relperm\n",
    "import fractional_flow as ff\n",
    "from fipy import *\n",
    "import numpy as np\n",
    "import matplotlib.pyplot as plt"
   ]
  },
  {
   "cell_type": "code",
   "execution_count": 124,
   "metadata": {},
   "outputs": [],
   "source": [
    "# define parameters\n",
    "u = 1.e-3\n",
    "L = 100.\n",
    "nx = 200\n",
    "dx = L/nx\n",
    "muo = 0.002\n",
    "muw = 0.001\n",
    "p0 = 100e5\n",
    "k=1e-12\n",
    "phi=0.3\n",
    "\n",
    "swc = 0.1\n",
    "sor = 0.15\n",
    "krw0 = 0.3\n",
    "kro0 = 1.0\n",
    "nw = 2.0\n",
    "no = 2.0\n",
    "\n",
    "kro = lambda sw: relperm.kro(sw, kro0, sor, swc, no)\n",
    "krw = lambda sw: relperm.krw(sw, krw0, sor, swc, nw)\n",
    "dkrw = lambda sw: relperm.dkrwdsw(sw, krw0, sor, swc, nw)\n",
    "dkro = lambda sw: relperm.dkrodsw(sw, kro0, sor, swc, no)"
   ]
  },
  {
   "cell_type": "code",
   "execution_count": 125,
   "metadata": {},
   "outputs": [
    {
     "data": {
      "text/plain": [
       "[<matplotlib.lines.Line2D at 0x7fdda6efb400>,\n",
       " <matplotlib.lines.Line2D at 0x7fdda6ef9f90>]"
      ]
     },
     "execution_count": 125,
     "metadata": {},
     "output_type": "execute_result"
    },
    {
     "data": {
      "image/png": "[encoded data removed]",
      "text/plain": [
       "<Figure size 432x288 with 1 Axes>"
      ]
     },
     "metadata": {
      "needs_background": "light"
     },
     "output_type": "display_data"
    }
   ],
   "source": [
    "# plot the rel-perms\n",
    "sw_plot = np.linspace(0, 1, 50)\n",
    "krw_plot = [krw(sw) for sw in sw_plot]\n",
    "kro_plot = [kro(sw) for sw in sw_plot]\n",
    "\n",
    "plt.figure(1)\n",
    "plt.plot(sw_plot, krw_plot, sw_plot, kro_plot)\n"
   ]
  },
  {
   "cell_type": "code",
   "execution_count": 126,
   "metadata": {},
   "outputs": [],
   "source": [
    "# define the mesh and variables\n",
    "mesh = Grid1D(dx = L/nx, nx = nx)\n",
    "x = mesh.cellCenters\n",
    "\n",
    "# create the cell variables and boundary conditions\n",
    "sw = CellVariable(mesh=mesh, name=\"saturation\", hasOld=True, value = swc)\n",
    "p = CellVariable(mesh=mesh, name=\"pressure\", hasOld=True, value = p0)\n"
   ]
  },
  {
   "cell_type": "code",
   "execution_count": 127,
   "metadata": {},
   "outputs": [],
   "source": [
    "# Boundary conditions\n",
    "sw.constrain(1.0, mesh.facesLeft)\n",
    "#sw.constrain(0., mesh.facesRight)\n",
    "sw.faceGrad.constrain([0], mesh.facesRight)\n",
    "p.constrain(p0, mesh.facesRight)\n",
    "p.constrain(1.1*p0, mesh.facesLeft)\n",
    "# p.faceGrad.constrain([-u/(krw(1-sor)*k/muw)], mesh.facesLeft)"
   ]
  },
  {
   "cell_type": "code",
   "execution_count": 128,
   "metadata": {},
   "outputs": [],
   "source": [
    "# define the equations\n",
    "eq_p = DiffusionTerm(var=p, coeff=-k*(krw(sw.faceValue)/muw+kro(sw.faceValue)/muo))- \\\n",
    "UpwindConvectionTerm(var=sw, coeff=-k*(dkrw(sw.faceValue)/muw+dkro(sw.faceValue)/muo)*p.faceGrad)- \\\n",
    "(k*(dkrw(sw.faceValue)/muw+dkro(sw.faceValue)/muo)*sw.faceValue*p.faceGrad).divergence == 0\n",
    "\n",
    "eq_sw = TransientTerm(coeff=phi, var=sw) + \\\n",
    "DiffusionTerm(var=p, coeff=-k*krw(sw.faceValue)/muw)+ \\\n",
    "UpwindConvectionTerm(var=sw, coeff=-k*dkrw(sw.faceValue)/muw*p.faceGrad)- \\\n",
    "(-k*dkrw(sw.faceValue)/muw*p.faceGrad*sw.faceValue).divergence == 0"
   ]
  },
  {
   "cell_type": "code",
   "execution_count": 129,
   "metadata": {},
   "outputs": [
    {
     "name": "stdout",
     "output_type": "stream",
     "text": [
      "error is pressure 0.00400 and saturation 0.00001\n",
      "error is pressure 0.00000 and saturation 0.00000\n",
      "error is pressure 0.00000 and saturation 0.00000\n",
      "error is pressure 0.00001 and saturation 0.00001\n",
      "error is pressure 0.00001 and saturation 0.00001\n",
      "error is pressure 0.00000 and saturation 0.00001\n",
      "error is pressure 0.00000 and saturation 0.00001\n",
      "error is pressure 0.00001 and saturation 0.00001\n",
      "error is pressure 0.00001 and saturation 0.00001\n",
      "error is pressure 0.00001 and saturation 0.00000\n",
      "error is pressure 0.00000 and saturation 0.00000\n",
      "error is pressure 0.00000 and saturation 0.00000\n",
      "error is pressure 0.00000 and saturation 0.00001\n",
      "error is pressure 0.00000 and saturation 0.00001\n",
      "error is pressure 0.00000 and saturation 0.00001\n",
      "error is pressure 0.00001 and saturation 0.00001\n",
      "error is pressure 0.00001 and saturation 0.00000\n",
      "error is pressure 0.00000 and saturation 0.00000\n",
      "error is pressure 0.00000 and saturation 0.00000\n",
      "error is pressure 0.00000 and saturation 0.00001\n",
      "error is pressure 0.00000 and saturation 0.00001\n",
      "error is pressure 0.00000 and saturation 0.00001\n",
      "error is pressure 0.00001 and saturation 0.00001\n",
      "error is pressure 0.00001 and saturation 0.00000\n",
      "error is pressure 0.00000 and saturation 0.00000\n",
      "error is pressure 0.00000 and saturation 0.00000\n",
      "error is pressure 0.00000 and saturation 0.00001\n",
      "error is pressure 0.00000 and saturation 0.00001\n",
      "error is pressure 0.00000 and saturation 0.00001\n",
      "error is pressure 0.00001 and saturation 0.00001\n",
      "error is pressure 0.00000 and saturation 0.00000\n",
      "error is pressure 0.00000 and saturation 0.00000\n",
      "error is pressure 0.00000 and saturation 0.00001\n",
      "error is pressure 0.00000 and saturation 0.00001\n",
      "error is pressure 0.00000 and saturation 0.00001\n",
      "error is pressure 0.00001 and saturation 0.00001\n",
      "error is pressure 0.00000 and saturation 0.00000\n",
      "error is pressure 0.00000 and saturation 0.00000\n",
      "error is pressure 0.00000 and saturation 0.00001\n",
      "error is pressure 0.00000 and saturation 0.00001\n",
      "error is pressure 0.00000 and saturation 0.00001\n",
      "error is pressure 0.00001 and saturation 0.00000\n",
      "error is pressure 0.00000 and saturation 0.00000\n",
      "error is pressure 0.00000 and saturation 0.00000\n",
      "error is pressure 0.00000 and saturation 0.00001\n",
      "error is pressure 0.00000 and saturation 0.00001\n",
      "error is pressure 0.00000 and saturation 0.00001\n",
      "error is pressure 0.00000 and saturation 0.00000\n",
      "error is pressure 0.00000 and saturation 0.00000\n",
      "error is pressure 0.00000 and saturation 0.00001\n",
      "error is pressure 0.00000 and saturation 0.00001\n",
      "error is pressure 0.00000 and saturation 0.00001\n",
      "error is pressure 0.00000 and saturation 0.00000\n",
      "error is pressure 0.00000 and saturation 0.00000\n",
      "error is pressure 0.00000 and saturation 0.00000\n",
      "error is pressure 0.00000 and saturation 0.00001\n",
      "error is pressure 0.00000 and saturation 0.00001\n",
      "error is pressure 0.00000 and saturation 0.00000\n",
      "error is pressure 0.00000 and saturation 0.00000\n",
      "error is pressure 0.00000 and saturation 0.00001\n",
      "error is pressure 0.00000 and saturation 0.00001\n",
      "error is pressure 0.00000 and saturation 0.00000\n",
      "error is pressure 0.00000 and saturation 0.00000\n",
      "error is pressure 0.00000 and saturation 0.00000\n",
      "error is pressure 0.00000 and saturation 0.00001\n",
      "error is pressure 0.00000 and saturation 0.00001\n",
      "error is pressure 0.00000 and saturation 0.00000\n",
      "error is pressure 0.00000 and saturation 0.00000\n",
      "error is pressure 0.00000 and saturation 0.00000\n",
      "error is pressure 0.00000 and saturation 0.00001\n",
      "error is pressure 0.00000 and saturation 0.00000\n",
      "error is pressure 0.00000 and saturation 0.00000\n",
      "error is pressure 0.00000 and saturation 0.00000\n",
      "error is pressure 0.00000 and saturation 0.00001\n",
      "error is pressure 0.00000 and saturation 0.00000\n",
      "error is pressure 0.00000 and saturation 0.00000\n",
      "error is pressure 0.00000 and saturation 0.00000\n",
      "error is pressure 0.00000 and saturation 0.00001\n",
      "error is pressure 0.00000 and saturation 0.00001\n",
      "error is pressure 0.00000 and saturation 0.00000\n",
      "error is pressure 0.00000 and saturation 0.00000\n",
      "error is pressure 0.00000 and saturation 0.00001\n",
      "error is pressure 0.00000 and saturation 0.00001\n",
      "error is pressure 0.00000 and saturation 0.00000\n",
      "error is pressure 0.00000 and saturation 0.00000\n",
      "error is pressure 0.00000 and saturation 0.00001\n",
      "error is pressure 0.00000 and saturation 0.00000\n",
      "error is pressure 0.00000 and saturation 0.00000\n",
      "error is pressure 0.00000 and saturation 0.00000\n",
      "error is pressure 0.00000 and saturation 0.00001\n",
      "error is pressure 0.00000 and saturation 0.00000\n",
      "error is pressure 0.00000 and saturation 0.00000\n",
      "error is pressure 0.00000 and saturation 0.00000\n",
      "error is pressure 0.00000 and saturation 0.00001\n",
      "error is pressure 0.00000 and saturation 0.00000\n",
      "error is pressure 0.00000 and saturation 0.00000\n",
      "error is pressure 0.00000 and saturation 0.00000\n",
      "error is pressure 0.00000 and saturation 0.00001\n",
      "error is pressure 0.00000 and saturation 0.00000\n",
      "error is pressure 0.00000 and saturation 0.00000\n",
      "error is pressure 0.00000 and saturation 0.00000\n",
      "error is pressure 0.00000 and saturation 0.00000\n",
      "error is pressure 0.00000 and saturation 0.00000\n",
      "error is pressure 0.00000 and saturation 0.00000\n",
      "error is pressure 0.00000 and saturation 0.00001\n",
      "error is pressure 0.00000 and saturation 0.00000\n",
      "error is pressure 0.00000 and saturation 0.00000\n",
      "error is pressure 0.00000 and saturation 0.00000\n",
      "error is pressure 0.00000 and saturation 0.00000\n",
      "error is pressure 0.00000 and saturation 0.00000\n",
      "error is pressure 0.00000 and saturation 0.00000\n",
      "error is pressure 0.00000 and saturation 0.00001\n",
      "error is pressure 0.00000 and saturation 0.00000\n",
      "error is pressure 0.00000 and saturation 0.00000\n",
      "error is pressure 0.00000 and saturation 0.00000\n",
      "error is pressure 0.00000 and saturation 0.00000\n",
      "error is pressure 0.00000 and saturation 0.00000\n",
      "error is pressure 0.00000 and saturation 0.00000\n",
      "error is pressure 0.00000 and saturation 0.00000\n",
      "error is pressure 0.00000 and saturation 0.00000\n",
      "error is pressure 0.00000 and saturation 0.00000\n",
      "error is pressure 0.00000 and saturation 0.00000\n",
      "error is pressure 0.00000 and saturation 0.00000\n",
      "error is pressure 0.00000 and saturation 0.00000\n",
      "error is pressure 0.00000 and saturation 0.00000\n",
      "error is pressure 0.00000 and saturation 0.00000\n",
      "error is pressure 0.00000 and saturation 0.00000\n",
      "error is pressure 0.00000 and saturation 0.00000\n",
      "error is pressure 0.00000 and saturation 0.00000\n",
      "error is pressure 0.00000 and saturation 0.00000\n",
      "error is pressure 0.00000 and saturation 0.00000\n",
      "error is pressure 0.00000 and saturation 0.00000\n",
      "error is pressure 0.00000 and saturation 0.00000\n",
      "error is pressure 0.00000 and saturation 0.00000\n",
      "error is pressure 0.00000 and saturation 0.00000\n",
      "error is pressure 0.00000 and saturation 0.00000\n",
      "error is pressure 0.00000 and saturation 0.00000\n",
      "error is pressure 0.00000 and saturation 0.00000\n",
      "error is pressure 0.00000 and saturation 0.00000\n",
      "error is pressure 0.00000 and saturation 0.00000\n",
      "error is pressure 0.00000 and saturation 0.00000\n",
      "error is pressure 0.00000 and saturation 0.00000\n",
      "error is pressure 0.00000 and saturation 0.00000\n",
      "error is pressure 0.00000 and saturation 0.00000\n",
      "error is pressure 0.00000 and saturation 0.00000\n",
      "error is pressure 0.00000 and saturation 0.00000\n",
      "error is pressure 0.00000 and saturation 0.00000\n",
      "error is pressure 0.00000 and saturation 0.00000\n",
      "error is pressure 0.00000 and saturation 0.00000\n",
      "error is pressure 0.00000 and saturation 0.00000\n",
      "error is pressure 0.00000 and saturation 0.00000\n",
      "error is pressure 0.00000 and saturation 0.00000\n",
      "error is pressure 0.00000 and saturation 0.00000\n",
      "error is pressure 0.00000 and saturation 0.00000\n",
      "error is pressure 0.00000 and saturation 0.00000\n",
      "error is pressure 0.00000 and saturation 0.00000\n",
      "error is pressure 0.00000 and saturation 0.00000\n",
      "error is pressure 0.00000 and saturation 0.00000\n",
      "error is pressure 0.00000 and saturation 0.00000\n",
      "error is pressure 0.00000 and saturation 0.00000\n",
      "error is pressure 0.00000 and saturation 0.00000\n",
      "error is pressure 0.00000 and saturation 0.00000\n",
      "error is pressure 0.00000 and saturation 0.00000\n",
      "error is pressure 0.00000 and saturation 0.00000\n",
      "error is pressure 0.00000 and saturation 0.00000\n",
      "error is pressure 0.00000 and saturation 0.00000\n",
      "error is pressure 0.00000 and saturation 0.00000\n",
      "error is pressure 0.00000 and saturation 0.00000\n"
     ]
    },
    {
     "name": "stdout",
     "output_type": "stream",
     "text": [
      "error is pressure 0.00000 and saturation 0.00000\n",
      "error is pressure 0.00000 and saturation 0.00000\n",
      "error is pressure 0.00000 and saturation 0.00000\n",
      "error is pressure 0.00000 and saturation 0.00000\n",
      "error is pressure 0.00000 and saturation 0.00000\n",
      "error is pressure 0.00000 and saturation 0.00000\n",
      "error is pressure 0.00000 and saturation 0.00000\n",
      "error is pressure 0.00000 and saturation 0.00000\n",
      "error is pressure 0.00000 and saturation 0.00000\n",
      "error is pressure 0.00000 and saturation 0.00000\n",
      "error is pressure 0.00000 and saturation 0.00000\n",
      "error is pressure 0.00000 and saturation 0.00000\n",
      "error is pressure 0.00000 and saturation 0.00000\n",
      "error is pressure 0.00000 and saturation 0.00000\n",
      "error is pressure 0.00000 and saturation 0.00000\n",
      "error is pressure 0.00000 and saturation 0.00000\n",
      "error is pressure 0.00000 and saturation 0.00000\n",
      "error is pressure 0.00000 and saturation 0.00000\n",
      "error is pressure 0.00000 and saturation 0.00000\n",
      "error is pressure 0.00000 and saturation 0.00000\n",
      "error is pressure 0.00000 and saturation 0.00000\n",
      "error is pressure 0.00000 and saturation 0.00000\n",
      "error is pressure 0.00000 and saturation 0.00000\n",
      "error is pressure 0.00000 and saturation 0.00000\n",
      "error is pressure 0.00000 and saturation 0.00000\n",
      "error is pressure 0.00000 and saturation 0.00000\n",
      "error is pressure 0.00000 and saturation 0.00000\n",
      "error is pressure 0.00000 and saturation 0.00000\n",
      "error is pressure 0.00000 and saturation 0.00000\n",
      "error is pressure 0.00000 and saturation 0.00000\n",
      "error is pressure 0.00000 and saturation 0.00000\n",
      "error is pressure 0.00000 and saturation 0.00000\n"
     ]
    },
    {
     "data": {
      "image/png": "[encoded data removed]",
      "text/plain": [
       "<Figure size 288x288 with 1 Axes>"
      ]
     },
     "metadata": {
      "needs_background": "light"
     },
     "output_type": "display_data"
    }
   ],
   "source": [
    "steps = 200\n",
    "dt = 20000.\n",
    "viewer = Viewer(vars = sw, datamax=1.1, datamin=-0.1)\n",
    "for step in range(steps):\n",
    "    sw.updateOld()\n",
    "    swres = 1.0e6\n",
    "    while swres > 1e-5:\n",
    "        pres=eq_p.sweep(dt = dt, var = p)\n",
    "        swres=eq_sw.sweep(dt = dt, var = sw)\n",
    "        print(f'error is pressure {pres:.5f} and saturation {swres:.5f}')\n",
    "        p.updateOld()\n",
    "        sw.updateOld()\n",
    "# viewer.plot()"
   ]
  },
  {
   "cell_type": "markdown",
   "metadata": {},
   "source": [
    "## Equations\n",
    "$$\\varphi \\frac{\\partial S_w}{\\partial t}+u \\frac{\\partial f_w}{\\partial x}=0$$ or\n",
    "$$\\varphi \\frac{\\partial S_w}{\\partial t}+\\nabla.\\left( u \\frac{\\partial f_w}{\\partial S_w} S_w\\right)+ \\nabla. \\left( u f_w-u\\frac{\\partial f_w}{\\partial S_w} S_{w0} \\right)=0$$"
   ]
  },
  {
   "cell_type": "markdown",
   "metadata": {},
   "source": [
    "## Analytical solution"
   ]
  },
  {
   "cell_type": "code",
   "execution_count": 130,
   "metadata": {},
   "outputs": [],
   "source": [
    "xt_shock, sw_shock, xt_prf, sw_prf, t, p_inj, R_oil = ff.frac_flow_wf(muw=muw, muo=muo, ut=u, phi=1.0, \\\n",
    "  k=1e-12, swc=swc, sor=sor, kro0=kro0, no=no, krw0=krw0, \\\n",
    "  nw=nw, sw0=swc, sw_inj=1.0, L=L, pv_inj=5.0)"
   ]
  },
  {
   "cell_type": "code",
   "execution_count": 131,
   "metadata": {},
   "outputs": [
    {
     "data": {
      "image/png": "[encoded data removed]",
      "text/plain": [
       "<Figure size 432x288 with 1 Axes>"
      ]
     },
     "metadata": {
      "needs_background": "light"
     },
     "output_type": "display_data"
    }
   ],
   "source": [
    "plt.figure()\n",
    "plt.plot(xt_prf, sw_prf)\n",
    "plt.plot(x.value.squeeze()/(steps*dt), sw.value)\n",
    "plt.show()"
   ]
  }
 ],
 "metadata": {
  "kernelspec": {
   "display_name": "Python 3 (ipykernel)",
   "language": "python",
   "name": "python3"
  },
  "language_info": {
   "codemirror_mode": {
    "name": "ipython",
    "version": 3
   },
   "file_extension": ".py",
   "mimetype": "text/x-python",
   "name": "python",
   "nbconvert_exporter": "python",
   "pygments_lexer": "ipython3",
   "version": "3.10.4"
  }
 },
 "nbformat": 4,
 "nbformat_minor": 2
}
