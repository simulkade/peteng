{
 "cells": [
  {
   "cell_type": "code",
   "execution_count": 2,
   "metadata": {},
   "outputs": [
    {
     "name": "stdout",
     "output_type": "stream",
     "text": [
      "Elapsed time: 16.04552859999967 seconds\n",
      "where Elapsed time: 5.862902799999574 seconds\n",
      "my Elapsed time: 6.189596399999573 seconds\n",
      "argwhere Elapsed time: 33.608150099999875 seconds\n",
      "logic Elapsed time: 3.4545826000003217 seconds\n"
     ]
    }
   ],
   "source": [
    "# testing python speed\n",
    "import numpy as np\n",
    "from numba import njit\n",
    "import timeit\n",
    "\n",
    "\n",
    "@njit\n",
    "def kro_loop(sw, kro0, sor, swc, no):\n",
    "    res = np.zeros_like(sw)\n",
    "    for i in range(sw.shape[0]):\n",
    "        for j in range(sw.shape[1]):\n",
    "            if swc <= sw[i, j] <= 1 - sor:\n",
    "                res[i, j] = kro0 * ((1 - sw[i, j] - sor) / (1 - sor - swc)) ** no\n",
    "            elif 0.0 < sw[i, j] < swc:\n",
    "                res[i, j] = 1 + (kro0 - 1) / swc * sw[i, j]\n",
    "            elif sw[i, j] > 1 - sor:\n",
    "                res[i, j] = 0.0\n",
    "            elif sw[i, j] <= 0.0:\n",
    "                res[i, j] = 1.0\n",
    "    return res\n",
    "\n",
    "def kro(sw, kro0, sor, swc, no):\n",
    "    return (np.where((swc <= sw) & (sw <= 1 - sor), kro0 * ((1 - sw - sor) / (1 - sor - swc)) ** no, 0.0)+\n",
    "        np.where((0.0 < sw) & (sw < swc), 1 + (kro0 - 1) / swc * sw, 0.0)+\n",
    "        np.where(sw > 1 - sor, 0.0, 0.0)+\n",
    "        np.where(sw <= 0.0, 1.0, 0.0)).astype(float)\n",
    "\n",
    "def mykro(sw, kro0, sor, swc, no):\n",
    "    res = ((swc<=sw) & (sw<=1-sor))*kro0*((1-sw-sor)/(1-sor-swc))**no \\\n",
    "    +((0.0<sw) & (sw<swc))*(1+(kro0-1)/swc*sw) \\\n",
    "    +(sw>1-sor)*0.0 \\\n",
    "    +(sw<=0.0)*1.0\n",
    "    return res\n",
    "\n",
    "def kro_arg(sw, kro0, sor, swc, no):\n",
    "    res = np.zeros_like(sw)\n",
    "    \n",
    "    indices = np.argwhere((swc <= sw) & (sw <= 1 - sor))\n",
    "    res[indices[:, 0], indices[:, 1]] = kro0 * ((1 - sw[indices[:, 0], indices[:, 1]] - sor) / (1 - sor - swc)) ** no\n",
    "    \n",
    "    indices = np.argwhere((0.0 < sw) & (sw < swc))\n",
    "    res[indices[:, 0], indices[:, 1]] = 1 + (kro0 - 1) / swc * sw[indices[:, 0], indices[:, 1]]\n",
    "    \n",
    "    indices = np.argwhere(sw > 1 - sor)\n",
    "    res[indices[:, 0], indices[:, 1]] = 0.0\n",
    "    \n",
    "    indices = np.argwhere(sw <= 0.0)\n",
    "    res[indices[:, 0], indices[:, 1]] = 1.0\n",
    "    return res\n",
    "\n",
    "def kro_logic(sw, kro0, sor, swc, no):\n",
    "    res = np.zeros_like(sw)\n",
    "    cond1 = np.logical_and(swc <= sw, sw <= 1 - sor)\n",
    "    res[(swc <= sw) & (sw <= 1 - sor)] = kro0 * ((1 - sw[cond1] - sor) / (1 - sor - swc)) ** no\n",
    "    cond2 = np.logical_and(0.0 < sw, sw < swc)\n",
    "    res[cond2] = 1 + (kro0 - 1) / swc * sw[cond2]\n",
    "    res[sw > 1 - sor] = 0.0\n",
    "    res[sw <= 0.0] = 1.0\n",
    "    return res\n",
    "\n",
    "sw = np.linspace(0.0, 1.0, 100000).reshape(100,1000)\n",
    "kro_time = lambda: kro_loop(sw, 0.9, 0.05, 0.1, 2.0)\n",
    "kro_time2 = lambda: kro(sw, 0.9, 0.05, 0.1, 2.0)\n",
    "kro_time3 = lambda: mykro(sw, 0.9, 0.05, 0.1, 2.0)\n",
    "kro_time4 = lambda: kro_arg(sw, 0.9, 0.05, 0.1, 2.0)\n",
    "kro_time5 = lambda: kro_logic(sw, 0.9, 0.05, 0.1, 2.0)\n",
    "num = 10000\n",
    "elapsed_time_loop = timeit.timeit(kro_time, number=num)\n",
    "elapsed_time_loop2 = timeit.timeit(kro_time2, number=num)\n",
    "elapsed_time_loop3 = timeit.timeit(kro_time3, number=num)\n",
    "elapsed_time_loop4 = timeit.timeit(kro_time4, number=num)\n",
    "elapsed_time_loop5 = timeit.timeit(kro_time5, number=num)\n",
    "\n",
    "\n",
    "# Print the elapsed time\n",
    "print(f\"Elapsed time: {elapsed_time_loop} seconds\")\n",
    "print(f\"where Elapsed time: {elapsed_time_loop2} seconds\")\n",
    "print(f\"my Elapsed time: {elapsed_time_loop3} seconds\")\n",
    "print(f\"argwhere Elapsed time: {elapsed_time_loop4} seconds\")\n",
    "print(f\"logic Elapsed time: {elapsed_time_loop5} seconds\")\n"
   ]
  },
  {
   "cell_type": "code",
   "execution_count": 21,
   "metadata": {},
   "outputs": [
    {
     "data": {
      "text/plain": [
       "array([0.40816327, 0.5877551 , 0.98      ])"
      ]
     },
     "execution_count": 21,
     "metadata": {},
     "output_type": "execute_result"
    }
   ],
   "source": [
    "kro(np.array([0.3, 0.2, 0.01]), 0.8, 0.2, 0.1, 2.0)"
   ]
  },
  {
   "cell_type": "code",
   "execution_count": 22,
   "metadata": {},
   "outputs": [
    {
     "name": "stdout",
     "output_type": "stream",
     "text": [
      "original Execution time: 7.708333700000367 seconds\n",
      "Execution time: 6.949330499999633 seconds\n",
      "My Execution time: 6.562617599996884 seconds\n"
     ]
    }
   ],
   "source": [
    "import timeit\n",
    "\n",
    "# Define the setup code (imports and function definition)\n",
    "setup_code = \"\"\"\n",
    "import numpy as np\n",
    "from numba import njit\n",
    "\n",
    "def kro_orig(sw, kro0, sor, swc, no):\n",
    "    condition1 = (swc <= sw) & (sw <= 1 - sor)\n",
    "    condition2 = (0.0 < sw) & (sw < swc)\n",
    "    condition3 = sw > 1 - sor\n",
    "    condition4 = sw <= 0.0\n",
    "\n",
    "    term1 = np.where(condition1, kro0 * ((1 - sw - sor) / (1 - sor - swc)) ** no, 0.0)\n",
    "    term2 = np.where(condition2, 1 + (kro0 - 1) / swc * sw, 0.0)\n",
    "    term3 = np.where(condition3, 0.0, 0.0)\n",
    "    term4 = np.where(condition4, 1.0, 0.0)\n",
    "\n",
    "    res = term1 + term2 + term3 + term4\n",
    "    return res\n",
    "\n",
    "def kro(sw, kro0, sor, swc, no):\n",
    "    return (np.where((swc <= sw) & (sw <= 1 - sor), kro0 * ((1 - sw - sor) / (1 - sor - swc)) ** no, 0.0)+\n",
    "        np.where((0.0 < sw) & (sw < swc), 1 + (kro0 - 1) / swc * sw, 0.0)+\n",
    "        np.where(sw > 1 - sor, 0.0, 0.0)+\n",
    "        np.where(sw <= 0.0, 1.0, 0.0)).astype(float)\n",
    "\n",
    "def mykro(sw, kro0, sor, swc, no):\n",
    "    res = ((swc<=sw) & (sw<=1-sor))*kro0*((1-sw-sor)/(1-sor-swc))**no \\\n",
    "    +((0.0<sw) & (sw<swc))*(1+(kro0-1)/swc*sw) \\\n",
    "    +(sw>1-sor)*0.0 \\\n",
    "    +(sw<=0.0)*1.0\n",
    "    return res\n",
    "\"\"\"\n",
    "\n",
    "# Define the code snippet to measure the runtime\n",
    "code_to_test = \"\"\"\n",
    "# Call the function with sample inputs\n",
    "sw = np.linspace(0.0, 1.0, 100000).reshape(100,1000)\n",
    "kro(sw, 0.9, 0.05, 0.1, 2.0)\n",
    "\"\"\"\n",
    "\n",
    "mycode_to_test = \"\"\"\n",
    "# Call the function with sample inputs\n",
    "sw = np.linspace(0.0, 1.0, 100000).reshape(100,1000)\n",
    "mykro(sw, 0.9, 0.05, 0.1, 2.0)\n",
    "\"\"\"\n",
    "\n",
    "origcode_to_test = \"\"\"\n",
    "# Call the function with sample inputs\n",
    "sw = np.linspace(0.0, 1.0, 100000).reshape(100,1000)\n",
    "kro_orig(sw, 0.9, 0.05, 0.1, 2.0)\n",
    "\"\"\"\n",
    "\n",
    "# Measure the runtime\n",
    "execution_time = timeit.timeit(code_to_test, setup=setup_code, number=2000)\n",
    "myexecution_time = timeit.timeit(mycode_to_test, setup=setup_code, number=2000)\n",
    "origexecution_time = timeit.timeit(origcode_to_test, setup=setup_code, number=2000)\n",
    "\n",
    "print(f\"original Execution time: {origexecution_time} seconds\")\n",
    "print(f\"Execution time: {execution_time} seconds\")\n",
    "print(f\"My Execution time: {myexecution_time} seconds\")\n"
   ]
  },
  {
   "cell_type": "code",
   "execution_count": 10,
   "metadata": {},
   "outputs": [
    {
     "data": {
      "text/plain": [
       "array([[0.00000000e+00, 1.00001000e-05, 2.00002000e-05, ...,\n",
       "        9.97009970e-03, 9.98009980e-03, 9.99009990e-03],\n",
       "       [1.00001000e-02, 1.00101001e-02, 1.00201002e-02, ...,\n",
       "        1.99701997e-02, 1.99801998e-02, 1.99901999e-02],\n",
       "       [2.00002000e-02, 2.00102001e-02, 2.00202002e-02, ...,\n",
       "        2.99702997e-02, 2.99802998e-02, 2.99902999e-02],\n",
       "       ...,\n",
       "       [9.70009700e-01, 9.70019700e-01, 9.70029700e-01, ...,\n",
       "        9.79979800e-01, 9.79989800e-01, 9.79999800e-01],\n",
       "       [9.80009800e-01, 9.80019800e-01, 9.80029800e-01, ...,\n",
       "        9.89979900e-01, 9.89989900e-01, 9.89999900e-01],\n",
       "       [9.90009900e-01, 9.90019900e-01, 9.90029900e-01, ...,\n",
       "        9.99980000e-01, 9.99990000e-01, 1.00000000e+00]])"
      ]
     },
     "execution_count": 10,
     "metadata": {},
     "output_type": "execute_result"
    }
   ],
   "source": [
    "np.linspace(0.0, 1.0, 100000).reshape(100,1000)"
   ]
  },
  {
   "attachments": {},
   "cell_type": "markdown",
   "metadata": {},
   "source": [
    "Another way to do these alculations is table reading. Let's try it now."
   ]
  },
  {
   "cell_type": "code",
   "execution_count": 8,
   "metadata": {},
   "outputs": [],
   "source": [
    "\n"
   ]
  },
  {
   "cell_type": "code",
   "execution_count": 13,
   "metadata": {},
   "outputs": [
    {
     "name": "stderr",
     "output_type": "stream",
     "text": [
      "C:\\Users\\aaeft\\AppData\\Local\\Temp\\ipykernel_16572\\3619572297.py:23: RuntimeWarning: invalid value encountered in power\n",
      "  return (np.where((swc <= sw) & (sw <= 1 - sor), kro0 * ((1 - sw - sor) / (1 - sor - swc)) ** no, 0.0)+\n"
     ]
    },
    {
     "name": "stdout",
     "output_type": "stream",
     "text": [
      "Elapsed time: 4.8909181999988505 seconds\n"
     ]
    }
   ],
   "source": [
    "from scipy.interpolate import interp1d\n",
    "sw_interp = np.linspace(0.0, 1.0, 100)\n",
    "kro_values = kro(sw_interp, 0.9, 0.05, 0.1, 2.4)\n",
    "kro_interp = interp1d(sw_interp, kro_values, kind='linear', bounds_error=False, fill_value=(kro_values[0], kro_values[-1]))\n",
    "sw = np.linspace(0.0, 1.0, 100000).reshape(100,1000)\n",
    "kro_i = lambda: kro_interp(sw)\n",
    "elapsed_time_int = timeit.timeit(kro_i, number=num)\n",
    "print(f\"Elapsed time: {elapsed_time_int} seconds\")"
   ]
  },
  {
   "cell_type": "code",
   "execution_count": 1,
   "metadata": {},
   "outputs": [],
   "source": [
    "import numpy as np"
   ]
  },
  {
   "cell_type": "code",
   "execution_count": 3,
   "metadata": {},
   "outputs": [
    {
     "data": {
      "text/plain": [
       "4"
      ]
     },
     "execution_count": 3,
     "metadata": {},
     "output_type": "execute_result"
    }
   ],
   "source": [
    "np.max([2,3,4])"
   ]
  },
  {
   "cell_type": "code",
   "execution_count": 5,
   "metadata": {},
   "outputs": [],
   "source": [
    "# assign the values of a numpy array to a variable\n",
    "# and plot the values of the variable\n",
    "# using the matplotlib library\n",
    "# import the numpy library\n",
    "import numpy as np\n",
    "# import the matplotlib library\n",
    "import matplotlib.pyplot as plt\n",
    "# create a numpy array\n",
    "x = np.array([1, 2, 3, 4])\n",
    "# assign the values of the numpy array to a variable\n",
    "y = x\n",
    "# plot the values of the variable\n",
    "plt.plot(x, y)\n",
    "# show the plot\n",
    "plt.show()\n",
    "\n"
   ]
  },
  {
   "cell_type": "code",
   "execution_count": 10,
   "metadata": {},
   "outputs": [],
   "source": [
    "x = np.array([1, 2, 3, 4])\n",
    "y = 2*np.array([1, 2, 3, 4])"
   ]
  },
  {
   "cell_type": "code",
   "execution_count": 11,
   "metadata": {},
   "outputs": [],
   "source": [
    "x[:] = y"
   ]
  },
  {
   "cell_type": "code",
   "execution_count": 12,
   "metadata": {},
   "outputs": [
    {
     "data": {
      "text/plain": [
       "array([2, 4, 6, 8])"
      ]
     },
     "execution_count": 12,
     "metadata": {},
     "output_type": "execute_result"
    }
   ],
   "source": [
    "x"
   ]
  },
  {
   "cell_type": "code",
   "execution_count": 13,
   "metadata": {},
   "outputs": [
    {
     "data": {
      "text/plain": [
       "array([2, 4, 6, 8])"
      ]
     },
     "execution_count": 13,
     "metadata": {},
     "output_type": "execute_result"
    }
   ],
   "source": [
    "y"
   ]
  },
  {
   "cell_type": "code",
   "execution_count": 14,
   "metadata": {},
   "outputs": [
    {
     "data": {
      "text/plain": [
       "array([2, 4, 6, 8])"
      ]
     },
     "execution_count": 14,
     "metadata": {},
     "output_type": "execute_result"
    }
   ],
   "source": [
    "y[0] = 0\n",
    "x"
   ]
  },
  {
   "cell_type": "code",
   "execution_count": 15,
   "metadata": {},
   "outputs": [
    {
     "data": {
      "text/plain": [
       "array([0, 4, 6, 8])"
      ]
     },
     "execution_count": 15,
     "metadata": {},
     "output_type": "execute_result"
    }
   ],
   "source": [
    "y"
   ]
  },
  {
   "cell_type": "code",
   "execution_count": null,
   "metadata": {},
   "outputs": [],
   "source": []
  }
 ],
 "metadata": {
  "kernelspec": {
   "display_name": "Python 3",
   "language": "python",
   "name": "python3"
  },
  "language_info": {
   "codemirror_mode": {
    "name": "ipython",
    "version": 3
   },
   "file_extension": ".py",
   "mimetype": "text/x-python",
   "name": "python",
   "nbconvert_exporter": "python",
   "pygments_lexer": "ipython3",
   "version": "3.10.11"
  },
  "orig_nbformat": 4
 },
 "nbformat": 4,
 "nbformat_minor": 2
}
