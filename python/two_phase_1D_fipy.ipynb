{
 "cells": [
  {
   "cell_type": "markdown",
   "metadata": {},
   "source": [
    "## FiPy 1D two-phase flow in porous mediaq, 11 October, 2019\n",
    "Different approaches:\n",
    "  * Coupled\n",
    "  * Sequential\n",
    "  * ..."
   ]
  },
  {
   "cell_type": "code",
   "execution_count": 10,
   "metadata": {},
   "outputs": [
    {
     "name": "stdout",
     "output_type": "stream",
     "text": [
      "[0 1 2 3 4 2 3 4 8 6 7 8 0 0 2 2 3 3 4 5 6 6 8 8]\n"
     ]
    }
   ],
   "source": [
    "from fipy import Grid2D, CellVariable, FaceVariable\n",
    "import numpy as np\n",
    "\n",
    "\n",
    "def upwindValues(mesh, field, velocity):\n",
    "    \"\"\"Calculate the upwind face values for a field variable\n",
    "\n",
    "    Note that the mesh.faceNormals point from `id1` to `id2` so if velocity is in the same\n",
    "    direction as the `faceNormal`s then we take the value from `id1`s and visa-versa.\n",
    "\n",
    "    Args:\n",
    "      mesh: a fipy mesh\n",
    "      field: a fipy cell variable or equivalent numpy array\n",
    "      velocity: a fipy face variable (rank 1) or equivalent numpy array\n",
    "     \n",
    "    Returns:\n",
    "      numpy array shaped as a fipy face variable\n",
    "    \"\"\"\n",
    "    # direction is over faces (rank 0)\n",
    "    direction = np.sum(np.array(mesh.faceNormals * velocity), axis=0)\n",
    "    # id1, id2 are shaped as faces but contains cell index values\n",
    "    id1, id2 = mesh._adjacentCellIDs\n",
    "    return np.where(direction >= 0, field[id1],  field[id2])\n",
    "\n",
    "\n",
    "mesh = Grid2D(nx=3, ny=3)\n",
    "print(\n",
    "    upwindValues(\n",
    "        mesh,\n",
    "        np.arange(mesh.numberOfCells),\n",
    "        2 * np.random.random(size=(2, mesh.numberOfFaces)) - 1\n",
    "    )\n",
    ")\n"
   ]
  },
  {
   "cell_type": "code",
   "execution_count": 11,
   "metadata": {},
   "outputs": [],
   "source": [
    "from fipy import *\n",
    "\n",
    "# relperm parameters\n",
    "swc = 0.0\n",
    "sor = 0.0\n",
    "krw0 = 0.3\n",
    "kro0 = 1.0\n",
    "nw = 2.0\n",
    "no = 2.0\n",
    "\n",
    "# domain and boundaries\n",
    "k = 1e-12 # m^2\n",
    "phi = 0.4\n",
    "u = 1.e-5\n",
    "p0 = 100e5 # Pa\n",
    "Lx = 100.\n",
    "Ly = 10.\n",
    "nx = 100\n",
    "ny = 10\n",
    "dx = Lx/nx\n",
    "dy = Ly/ny\n",
    "\n",
    "# fluid properties\n",
    "muo = 0.002\n",
    "muw = 0.001\n",
    "\n",
    "# define the fractional flow functions\n",
    "def krw(sw):\n",
    "    res = krw0*((sw-swc)/(1-swc-sor))**nw\n",
    "    return res\n",
    "\n",
    "def dkrw(sw):\n",
    "    res = krw0*nw/(1-swc-sor)*((sw-swc)/(1-swc-sor))**(nw-1)\n",
    "    return res\n",
    "\n",
    "\n",
    "def kro(sw):\n",
    "    res = kro0*((1-sw-sor)/(1-swc-sor))**no\n",
    "    return res\n",
    "\n",
    "def dkro(sw):\n",
    "    res = -kro0*no/(1-swc-sor)*((1-sw-sor)/(1-swc-sor))**(no-1)\n",
    "    return res\n",
    "\n",
    "def fw(sw):\n",
    "    res = krw(sw)/muw/(krw(sw)/muw+kro(sw)/muo)\n",
    "    return res\n",
    "\n",
    "def dfw(sw):\n",
    "    res = (dkrw(sw)/muw*kro(sw)/muo-krw(sw)/muw*dkro(sw)/muo)/(krw(sw)/muw+kro(sw)/muo)**2\n",
    "    return res\n",
    "\n",
    "import matplotlib.pyplot as plt\n",
    "import numpy as np\n",
    "\n",
    "sw_plot = np.linspace(swc, 1-sor, 50)"
   ]
  },
  {
   "cell_type": "markdown",
   "metadata": {},
   "source": [
    "## Visualize the relative permeability and fractional flow curves"
   ]
  },
  {
   "cell_type": "code",
   "execution_count": 12,
   "metadata": {},
   "outputs": [
    {
     "data": {
      "image/png": "[encoded data removed]",
      "text/plain": [
       "<Figure size 432x288 with 1 Axes>"
      ]
     },
     "metadata": {
      "needs_background": "light"
     },
     "output_type": "display_data"
    },
    {
     "data": {
      "image/png": "[encoded data removed]",
      "text/plain": [
       "<Figure size 432x288 with 1 Axes>"
      ]
     },
     "metadata": {
      "needs_background": "light"
     },
     "output_type": "display_data"
    }
   ],
   "source": [
    "krw_plot = [krw(sw) for sw in sw_plot]\n",
    "kro_plot = [kro(sw) for sw in sw_plot]\n",
    "fw_plot = [fw(sw) for sw in sw_plot]\n",
    "\n",
    "plt.figure(1)\n",
    "plt.plot(sw_plot, krw_plot, sw_plot, kro_plot)\n",
    "plt.show()\n",
    "\n",
    "plt.figure(2)\n",
    "plt.plot(sw_plot, fw_plot)\n",
    "plt.show()"
   ]
  },
  {
   "cell_type": "code",
   "execution_count": 13,
   "metadata": {},
   "outputs": [],
   "source": [
    "# create the grid\n",
    "mesh = Grid1D(dx = Lx/nx, nx = nx)\n",
    "x = mesh.cellCenters\n",
    "\n",
    "# create the cell variables and boundary conditions\n",
    "sw = CellVariable(mesh=mesh, name=\"saturation\", hasOld=True, value = swc)\n",
    "p = CellVariable(mesh=mesh, name=\"pressure\", hasOld=True, value = p0)\n",
    "# sw.setValue(1,where = x<=dx)\n",
    "sw.constrain(1.0,mesh.facesLeft)\n",
    "#sw.constrain(0., mesh.facesRight)\n",
    "sw.faceGrad.constrain([0], mesh.facesRight)\n",
    "p.constrain(p0, mesh.facesRight)\n",
    "p.constrain(1.01*p0, mesh.facesLeft)\n"
   ]
  },
  {
   "cell_type": "markdown",
   "metadata": {},
   "source": [
    "## Equations\n",
    "$$\\nabla.\\left(\\left(-\\frac{k_{rw} k}{\\mu_w}-\\frac{k_{ro} k}{\\mu_o} \\right)\\nabla p \\right)=0$$ or\n",
    "$$\\varphi \\frac{\\partial S_w}{\\partial t}+\\nabla.\\left(-\\frac{k_{rw} k}{\\mu_w} \\nabla p \\right)=0$$"
   ]
  },
  {
   "cell_type": "code",
   "execution_count": 14,
   "metadata": {},
   "outputs": [
    {
     "ename": "TypeError",
     "evalue": "'>' not supported between instances of 'NoneType' and 'NoneType'",
     "output_type": "error",
     "traceback": [
      "\u001b[0;31m---------------------------------------------------------------------------\u001b[0m",
      "\u001b[0;31mTypeError\u001b[0m                                 Traceback (most recent call last)",
      "Input \u001b[0;32mIn [14]\u001b[0m, in \u001b[0;36m<cell line: 17>\u001b[0;34m()\u001b[0m\n\u001b[1;32m     25\u001b[0m \u001b[38;5;28;01mif\u001b[39;00m loop_count\u001b[38;5;241m==\u001b[39m\u001b[38;5;241m1\u001b[39m:\n\u001b[1;32m     26\u001b[0m     sw_res \u001b[38;5;241m=\u001b[39m swres_new\n\u001b[0;32m---> 27\u001b[0m \u001b[38;5;28;01mif\u001b[39;00m \u001b[43mswres_new\u001b[49m\u001b[38;5;241;43m>\u001b[39;49m\u001b[43msw_res\u001b[49m \u001b[38;5;129;01mor\u001b[39;00m loop_count\u001b[38;5;241m>\u001b[39m\u001b[38;5;241m5\u001b[39m:\n\u001b[1;32m     28\u001b[0m     dt \u001b[38;5;241m=\u001b[39m dt\u001b[38;5;241m/\u001b[39m\u001b[38;5;241m3\u001b[39m\n\u001b[1;32m     29\u001b[0m     sw\u001b[38;5;241m.\u001b[39mvalue \u001b[38;5;241m=\u001b[39m sw\u001b[38;5;241m.\u001b[39mold[:]\n",
      "\u001b[0;31mTypeError\u001b[0m: '>' not supported between instances of 'NoneType' and 'NoneType'"
     ]
    },
    {
     "data": {
      "image/png": "[encoded data removed]",
      "text/plain": [
       "<Figure size 288x288 with 1 Axes>"
      ]
     },
     "metadata": {
      "needs_background": "light"
     },
     "output_type": "display_data"
    }
   ],
   "source": [
    "eq_p = DiffusionTerm(var=p, coeff=-k*(krw(sw.faceValue)/muw+kro(sw.faceValue)/muo))- \\\n",
    "UpwindConvectionTerm(var=sw, coeff=-k*(dkrw(sw.faceValue)/muw+dkro(sw.faceValue)/muo)*p.faceGrad)- \\\n",
    "(k*(dkrw(sw.faceValue)/muw+dkro(sw.faceValue)/muo)*sw.faceValue*p.faceGrad).divergence == 0\n",
    "\n",
    "eq_sw = TransientTerm(coeff=phi, var=sw) + \\\n",
    "DiffusionTerm(var=p, coeff=-k*krw(sw.faceValue)/muw)+ \\\n",
    "UpwindConvectionTerm(var=sw, coeff=-k*dkrw(sw.faceValue)/muw*p.faceGrad)- \\\n",
    "(-k*dkrw(sw.faceValue)/muw*p.faceGrad*sw.faceValue).divergence == 0\n",
    "\n",
    "eq = eq_p & eq_sw\n",
    "steps = 200\n",
    "dt0 = 500.\n",
    "dt = dt0\n",
    "t_end = steps*dt0\n",
    "t = 0.0\n",
    "viewer = Viewer(vars = sw, datamax=1.1, datamin=-0.1)\n",
    "while t<t_end:\n",
    "    swres = 1.0e6\n",
    "    loop_count = 0\n",
    "    while True:\n",
    "        swres_new = eq.solve(dt = dt)\n",
    "        sw.value[sw.value>1-sor]=1-sor\n",
    "        sw.value[sw.value<swc]=swc\n",
    "        loop_count+=1\n",
    "        if loop_count==1:\n",
    "            sw_res = swres_new\n",
    "        if swres_new>sw_res or loop_count>5:\n",
    "            dt = dt/3\n",
    "            sw.value = sw.old[:]\n",
    "            p.value = p.old[:]\n",
    "            continue\n",
    "        swres=swres_new\n",
    "        print(swres)\n",
    "        if swres_new<1e-5:\n",
    "            sw.updateOld()\n",
    "            p.updateOld()\n",
    "            t+=dt\n",
    "            dt = dt0\n",
    "            break\n",
    "        \n",
    "# Note: try to use the Appleyard method; the overflow is a result of wrong rel-perm values        \n",
    "viewer.plot()"
   ]
  },
  {
   "cell_type": "markdown",
   "metadata": {},
   "source": [
    "## Analytical solution"
   ]
  },
  {
   "cell_type": "code",
   "execution_count": null,
   "metadata": {},
   "outputs": [],
   "source": [
    "import fractional_flow as ff\n",
    "xt_shock, sw_shock, xt_prf, sw_prf, t, p_inj, R_oil = ff.frac_flow_wf(muw=muw, muo=muo, ut=u, phi=1.0, \\\n",
    "  k=1e-12, swc=swc, sor=sor, kro0=kro0, no=no, krw0=krw0, \\\n",
    "  nw=nw, sw0=swc, sw_inj=1.0, L=Lx, pv_inj=5.0)"
   ]
  },
  {
   "cell_type": "code",
   "execution_count": null,
   "metadata": {},
   "outputs": [],
   "source": [
    "plt.figure()\n",
    "plt.plot(xt_prf, sw_prf)\n",
    "plt.plot(x.value.squeeze()/(steps*dt), sw.value)\n",
    "plt.show()"
   ]
  },
  {
   "cell_type": "code",
   "execution_count": null,
   "metadata": {},
   "outputs": [],
   "source": [
    "sw.arithmeticFaceValue"
   ]
  }
 ],
 "metadata": {
  "kernelspec": {
   "display_name": "Python 3 (ipykernel)",
   "language": "python",
   "name": "python3"
  },
  "language_info": {
   "codemirror_mode": {
    "name": "ipython",
    "version": 3
   },
   "file_extension": ".py",
   "mimetype": "text/x-python",
   "name": "python",
   "nbconvert_exporter": "python",
   "pygments_lexer": "ipython3",
   "version": "3.10.4"
  }
 },
 "nbformat": 4,
 "nbformat_minor": 4
}
