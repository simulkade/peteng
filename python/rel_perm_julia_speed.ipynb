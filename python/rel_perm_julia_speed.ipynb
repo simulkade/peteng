{
 "cells": [
  {
   "cell_type": "code",
   "execution_count": 2,
   "metadata": {},
   "outputs": [
    {
     "data": {
      "text/plain": [
       "kro_scalar (generic function with 1 method)"
      ]
     },
     "metadata": {},
     "output_type": "display_data"
    }
   ],
   "source": [
    "using BenchmarkTools, LinearAlgebra\n",
    "\n",
    "function kro(sw, kro0, sor, swc, no)\n",
    "    res = similar(sw)\n",
    "    \n",
    "    for idx in 1:length(sw)\n",
    "        if (swc <= sw[idx] <= 1 - sor)\n",
    "            res[idx] = kro0 * ((1 - sw[idx] - sor) / (1 - sor - swc)) ^ no\n",
    "        elseif (0.0 < sw[idx] < swc)\n",
    "            res[idx] = 1 + (kro0 - 1) / swc * sw[idx]\n",
    "        elseif (sw[idx] > 1 - sor)\n",
    "            res[idx] = 0.0\n",
    "        elseif (sw[idx] <= 0.0)\n",
    "            res[idx] = 1.0\n",
    "        end\n",
    "    end\n",
    "    \n",
    "    return res\n",
    "end\n",
    "\n",
    "function kro_scalar(sw, kro0, sor, swc, no)\n",
    "    if (swc <= sw <= 1 - sor)\n",
    "        return kro0 * ((1 - sw - sor) / (1 - sor - swc)) ^ no\n",
    "    elseif (0.0 < sw < swc)\n",
    "        return 1 + (kro0 - 1) / swc * sw\n",
    "    elseif (sw > 1 - sor)\n",
    "        return 0.0\n",
    "    elseif (sw <= 0.0)\n",
    "        return 1.0\n",
    "    end\n",
    "end"
   ]
  },
  {
   "cell_type": "code",
   "execution_count": 3,
   "metadata": {},
   "outputs": [
    {
     "data": {
      "text/plain": [
       "100×1000 reshape(::StepRangeLen{Float64, Base.TwicePrecision{Float64}, Base.TwicePrecision{Float64}, Int64}, 100, 1000) with eltype Float64:\n",
       " 0.0          0.00100001  0.00200002  …  0.99601  0.99701  0.99801  0.99901\n",
       " 1.00001e-5   0.00101001  0.00201002     0.99602  0.99702  0.99802  0.99902\n",
       " 2.00002e-5   0.00102001  0.00202002     0.99603  0.99703  0.99803  0.99903\n",
       " 3.00003e-5   0.00103001  0.00203002     0.99604  0.99704  0.99804  0.99904\n",
       " 4.00004e-5   0.00104001  0.00204002     0.99605  0.99705  0.99805  0.99905\n",
       " 5.00005e-5   0.00105001  0.00205002  …  0.99606  0.99706  0.99806  0.99906\n",
       " 6.00006e-5   0.00106001  0.00206002     0.99607  0.99707  0.99807  0.99907\n",
       " 7.00007e-5   0.00107001  0.00207002     0.99608  0.99708  0.99808  0.99908\n",
       " 8.00008e-5   0.00108001  0.00208002     0.99609  0.99709  0.99809  0.99909\n",
       " 9.00009e-5   0.00109001  0.00209002     0.9961   0.9971   0.9981   0.9991\n",
       " ⋮                                    ⋱                             \n",
       " 0.000910009  0.00191002  0.00291003     0.99692  0.99792  0.99892  0.99992\n",
       " 0.000920009  0.00192002  0.00292003     0.99693  0.99793  0.99893  0.99993\n",
       " 0.000930009  0.00193002  0.00293003     0.99694  0.99794  0.99894  0.99994\n",
       " 0.000940009  0.00194002  0.00294003     0.99695  0.99795  0.99895  0.99995\n",
       " 0.00095001   0.00195002  0.00295003  …  0.99696  0.99796  0.99896  0.99996\n",
       " 0.00096001   0.00196002  0.00296003     0.99697  0.99797  0.99897  0.99997\n",
       " 0.00097001   0.00197002  0.00297003     0.99698  0.99798  0.99898  0.99998\n",
       " 0.00098001   0.00198002  0.00298003     0.99699  0.99799  0.99899  0.99999\n",
       " 0.00099001   0.00199002  0.00299003     0.997    0.998    0.999    1.0"
      ]
     },
     "metadata": {},
     "output_type": "display_data"
    }
   ],
   "source": [
    "sw = reshape(range(0.0, stop=1.0, length=100000), 100, 1000)"
   ]
  },
  {
   "cell_type": "code",
   "execution_count": 4,
   "metadata": {},
   "outputs": [
    {
     "data": {
      "text/plain": [
       "BenchmarkTools.Trial: 1 sample with 10000 evaluations.\n",
       " Single result which took \u001b[34m1.542 ms\u001b[39m (3.71% GC) to evaluate,\n",
       " with a memory estimate of \u001b[33m781.30 KiB\u001b[39m, over \u001b[33m2\u001b[39m allocations."
      ]
     },
     "metadata": {},
     "output_type": "display_data"
    }
   ],
   "source": [
    "@benchmark kro(sw, 0.9, 0.05, 0.1, 2.0) evals=10000"
   ]
  },
  {
   "cell_type": "code",
   "execution_count": 5,
   "metadata": {},
   "outputs": [
    {
     "data": {
      "text/plain": [
       "BenchmarkTools.Trial: 1 sample with 10000 evaluations.\n",
       " Single result which took \u001b[34m1.551 ms\u001b[39m (3.78% GC) to evaluate,\n",
       " with a memory estimate of \u001b[33m782.28 KiB\u001b[39m, over \u001b[33m33\u001b[39m allocations."
      ]
     },
     "metadata": {},
     "output_type": "display_data"
    }
   ],
   "source": [
    "@benchmark kro_scalar.(sw, 0.9, 0.05, 0.1, 2.0) evals=10000"
   ]
  },
  {
   "cell_type": "code",
   "execution_count": 13,
   "metadata": {},
   "outputs": [
    {
     "data": {
      "text/plain": [
       "kro_logic (generic function with 1 method)"
      ]
     },
     "metadata": {},
     "output_type": "display_data"
    }
   ],
   "source": [
    "function kro_logic(sw, kro0, sor, swc, no)\n",
    "    res = similar(sw)\n",
    "    cond1 = (swc .<= sw) .& (sw .<= 1 - sor)\n",
    "    res[cond1] .= kro0 .* ((1 .- sw[cond1] .- sor) ./ (1 - sor - swc)) .^ no\n",
    "\n",
    "    cond2 = (0.0 .< sw) .& (sw .< swc)\n",
    "    res[cond2] .= 1 .+ (kro0 - 1) ./ swc .* sw[cond2]\n",
    "\n",
    "    res[sw .> 1 - sor] .= 0.0\n",
    "    res[sw .<= 0.0] .= 1.0\n",
    "\n",
    "    return res\n",
    "end"
   ]
  },
  {
   "cell_type": "code",
   "execution_count": 14,
   "metadata": {},
   "outputs": [
    {
     "data": {
      "text/plain": [
       "BenchmarkTools.Trial: 1 sample with 10000 evaluations.\n",
       " Single result which took \u001b[34m2.189 ms\u001b[39m (7.51% GC) to evaluate,\n",
       " with a memory estimate of \u001b[33m2.32 MiB\u001b[39m, over \u001b[33m33\u001b[39m allocations."
      ]
     },
     "metadata": {},
     "output_type": "display_data"
    }
   ],
   "source": [
    "@benchmark kro_logic(sw, 0.9, 0.05, 0.1, 2.0) evals=10000"
   ]
  }
 ],
 "metadata": {
  "kernelspec": {
   "display_name": "Julia 1.9.1",
   "language": "julia",
   "name": "julia-1.9"
  },
  "language_info": {
   "file_extension": ".jl",
   "mimetype": "application/julia",
   "name": "julia",
   "version": "1.9.1"
  },
  "orig_nbformat": 4
 },
 "nbformat": 4,
 "nbformat_minor": 2
}
